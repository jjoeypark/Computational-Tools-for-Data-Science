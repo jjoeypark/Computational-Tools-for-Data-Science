{
 "cells": [
  {
   "cell_type": "markdown",
   "metadata": {},
   "source": [
    "# Homework 6\n",
    "\n",
    "The focus of this homework will be Network and Graphs as well as Neural Networks.\n",
    "\n",
    "## Exercise 1 [25pts]\n",
    "\n",
    "In this exercise, you will try to recommend new collaborations to researchers\n",
    "of the Machine Learning community. Our approach will follow the guidelines of\n",
    "collaborative filtering: “If your past behavior/preferences were similar\n",
    "to some other user’s, your future behavior may be as well”. As an\n",
    "example, imagine you like Rolling Stones, Beatles and Jimmy Hendrix. It turns\n",
    "out that most people that like the aforementioned artists, are also fans of Eric\n",
    "Clapton. Then, it is very likely that if you listen to Eric Clapton’s music, you\n",
    "will like it as well.\n",
    "\n",
    "In this assignment you will implement a recommendation system for suggesting new collaborations to Machine Learning researchers.\n",
    "\n",
    "A network as a graph: A graph or network represents relationships among\n",
    "different entities (users of a social network, researchers, products, etc.). Those\n",
    "entities are represented as nodes and the relationships between them (friends\n",
    "on Facebook, co-authors of a research paper, products purchased together) as\n",
    "edges. When there is an edge between two nodes, x and y, we say that y is a\n",
    "neighbor (or friend) of x (and also - as the graphs we consider are undirected -\n",
    "x is also a neighbor of y).\n",
    "\n",
    "Each line of `edges.txt` contains the names of two researchers that have co-authored a paper in one of the top Machine Learning conferences (NeurIPS, ICLR, ICML) between 2010 and 2016.\n",
    "\n",
    "a) Write a function that reads the file “old edges.txt” and create a\n",
    "graph using NetworkX. (This is a tab-separated value (TSV) file, you may\n",
    "use packages such as Pandas to read it.) [5pts]"
   ]
  },
  {
   "cell_type": "code",
   "execution_count": 1,
   "metadata": {},
   "outputs": [],
   "source": [
    "import networkx as nx\n",
    "import pandas as pd \n",
    "\n",
    "def graphEdges(txtname):\n",
    "    df = pd.read_csv(txtname, sep='\\t', names = ['Edge1', 'Edge2'])\n",
    "    g = nx.from_pandas_edgelist(df, 'Edge1', 'Edge2')\n",
    "    return g\n",
    "\n",
    "g = graphEdges('edges.txt')"
   ]
  },
  {
   "cell_type": "markdown",
   "metadata": {},
   "source": [
    "b) Recommend by number of common friends. [10pts]\n",
    "\n",
    "The intuition behind this recommendation algorithm is that if non-friend\n",
    "Y is your friend’s friend, then maybe Y should be your friend too. If\n",
    "person Y is the friend of many of your friends, then Y is an even better\n",
    "recommendation.\n",
    "\n",
    "Write a function `common_friends_number(G, X)` that, given G and an author\n",
    "X, returns a list of recommendations for X. The authors in this list are sorted\n",
    "by the number of common neighbors they have with X (and are not of course\n",
    "already friends with X). If there are ties, you can break them arbitrarily."
   ]
  },
  {
   "cell_type": "code",
   "execution_count": 2,
   "metadata": {},
   "outputs": [
    {
     "data": {
      "text/plain": [
       "['Larry A. Wasserman',\n",
       " 'Akshay Krishnamurthy',\n",
       " 'Srivatsan Narayanan',\n",
       " 'Min Xu',\n",
       " 'Yu-Xiang Wang',\n",
       " 'Jisu Kim',\n",
       " 'Yen-Chi Chen',\n",
       " 'Haesun Park',\n",
       " 'Le Song',\n",
       " 'Mariya Ishteva']"
      ]
     },
     "execution_count": 2,
     "metadata": {},
     "output_type": "execute_result"
    }
   ],
   "source": [
    "def common_friends_number(G, X):\n",
    "    commons_list = {}\n",
    "    gneighbors = list(G.neighbors(X))\n",
    "    for e in G.neighbors(X):\n",
    "        for e2 in G.neighbors(e):\n",
    "            if e2 == X or e2 in gneighbors:\n",
    "                continue\n",
    "            if e2 in commons_list:\n",
    "                commons_list[e2] += 1\n",
    "            else:\n",
    "                commons_list[e2] = 1\n",
    "    commons_list = list(commons_list.items())\n",
    "    # Sort by the number of count \n",
    "    commons_list.sort(key = lambda x: x[1], reverse = True)\n",
    "    name_list = [x[0] for x in commons_list]\n",
    "    return name_list\n",
    "\n",
    "# Example \n",
    "common_friends_number(g, 'Mladen Kolar')[:10]"
   ]
  },
  {
   "cell_type": "markdown",
   "metadata": {},
   "source": [
    "c) Make recommendations using Jaccard’s Index. [10points]\n",
    "\n",
    "If Γ(X) is the set of neighbors of X, then the metric we used in part (c), assigns to a non-friend y, the following recommendation score (with respect to X):\n",
    "\n",
    "score(y) = |Γ(X)∩Γ(y)|.\n",
    "\n",
    "Jaccard’s Index scales this score by taking into account the union of X and Y ’s neighbors. Intuitively, X and Y are more similar, if what they have in common is as close as possible to what they have together.\n",
    "\n",
    "Write a function jaccard index(G, X) that given G and an author X, returns a\n",
    "list of recommendations for X. The authors in this list are sorted by the number\n",
    "of their Jaccard Index with respect to X (and are not of course already friends\n",
    "with X). If there are ties, you can break them arbitrarily.\n",
    "\n",
    "Jaccard Index = |Γ(X)∩Γ(y)| / |Γ(X)∪Γ(y)|"
   ]
  },
  {
   "cell_type": "code",
   "execution_count": 3,
   "metadata": {},
   "outputs": [
    {
     "data": {
      "text/plain": [
       "['Srivatsan Narayanan',\n",
       " 'Qingming Tang',\n",
       " 'Jisu Kim',\n",
       " 'Mariya Ishteva',\n",
       " 'Min Xu',\n",
       " 'Yen-Chi Chen',\n",
       " 'Akshay Krishnamurthy',\n",
       " 'Haesun Park',\n",
       " 'Larry A. Wasserman',\n",
       " 'Yu-Xiang Wang']"
      ]
     },
     "execution_count": 3,
     "metadata": {},
     "output_type": "execute_result"
    }
   ],
   "source": [
    "def jaccard_index(G, X):\n",
    "   commons_list = []\n",
    "   Xlist = set(G.neighbors(X))\n",
    "   for e in G.neighbors(X):\n",
    "      for e2 in G.neighbors(e):\n",
    "         if e2 == X or e2 in Xlist:\n",
    "            continue\n",
    "         elist = [x for x in G.neighbors(e2)]\n",
    "         elist = set(elist)\n",
    "         sim = float(len(Xlist.intersection(elist)) / len(Xlist.union(elist)))\n",
    "         if (e2, sim) not in commons_list:\n",
    "            commons_list.append((e2 , sim))\n",
    "         # Sort by the number of count \n",
    "         commons_list.sort(key = lambda x: x[1], reverse = True)\n",
    "         name_list = [x[0] for x in commons_list]\n",
    "   return name_list\n",
    "\n",
    "jaccard_index(g, 'Mladen Kolar')[:10]"
   ]
  },
  {
   "cell_type": "markdown",
   "metadata": {},
   "source": [
    "## Exercise 2 [55pts]\n",
    "\n",
    "This exercise will focus on Neural Networks and visualization.\n",
    "\n",
    "a) Write a function that takes a keras network and outputs an image (png format) of the network. [10pts]\n",
    "\n",
    "You can assume the model is sequential and only uses dense layers. The output image for\n",
    "\n",
    "```python\n",
    "    model = keras.models.Sequential()\n",
    "    model.add(layers.Dense(2, input_dim=2))\n",
    "    model.add(layers.Dense(1))\n",
    "    model.compile(loss=\"binary_crossentropy\")\n",
    "```\n",
    "\n",
    "should look something like this"
   ]
  },
  {
   "cell_type": "code",
   "execution_count": 4,
   "metadata": {},
   "outputs": [
    {
     "data": {
      "image/png": "[encoded data removed]",
      "text/plain": [
       "<IPython.core.display.Image object>"
      ]
     },
     "execution_count": 4,
     "metadata": {},
     "output_type": "execute_result"
    }
   ],
   "source": [
    "from IPython.display import Image\n",
    "Image(filename=\"example.png\")"
   ]
  },
  {
   "cell_type": "markdown",
   "metadata": {},
   "source": [
    "Hint: use the networkx library (specifically the [to_agraph](https://networkx.org/documentation/stable/reference/generated/networkx.drawing.nx_agraph.to_agraph.html) method)"
   ]
  },
  {
   "cell_type": "code",
   "execution_count": 5,
   "metadata": {},
   "outputs": [
    {
     "data": {
      "image/svg+xml": "<?xml version=\"1.0\" encoding=\"UTF-8\" standalone=\"no\"?>\n<!DOCTYPE svg PUBLIC \"-//W3C//DTD SVG 1.1//EN\"\n \"http://www.w3.org/Graphics/SVG/1.1/DTD/svg11.dtd\">\n<!-- Generated by graphviz version 2.49.3 (20211023.0002)\n -->\n<!-- Pages: 1 -->\n<svg width=\"98pt\" height=\"188pt\"\n viewBox=\"0.00 0.00 98.00 188.00\" xmlns=\"http://www.w3.org/2000/svg\" xmlns:xlink=\"http://www.w3.org/1999/xlink\">\n<g id=\"graph0\" class=\"graph\" transform=\"scale(1 1) rotate(0) translate(4 184)\">\n<polygon fill=\"white\" stroke=\"transparent\" points=\"-4,4 -4,-184 94,-184 94,4 -4,4\"/>\n<!-- 1 -->\n<g id=\"node1\" class=\"node\">\n<title>1</title>\n<ellipse fill=\"none\" stroke=\"black\" cx=\"18\" cy=\"-162\" rx=\"18\" ry=\"18\"/>\n</g>\n<!-- 3 -->\n<g id=\"node3\" class=\"node\">\n<title>3</title>\n<ellipse fill=\"none\" stroke=\"black\" cx=\"18\" cy=\"-90\" rx=\"18\" ry=\"18\"/>\n</g>\n<!-- 1&#45;&gt;3 -->\n<g id=\"edge1\" class=\"edge\">\n<title>1&#45;&gt;3</title>\n<path fill=\"none\" stroke=\"red\" d=\"M18,-143.7C18,-135.98 18,-126.71 18,-118.11\"/>\n<polygon fill=\"red\" stroke=\"red\" points=\"21.5,-118.1 18,-108.1 14.5,-118.1 21.5,-118.1\"/>\n</g>\n<!-- 4 -->\n<g id=\"node4\" class=\"node\">\n<title>4</title>\n<ellipse fill=\"none\" stroke=\"black\" cx=\"72\" cy=\"-90\" rx=\"18\" ry=\"18\"/>\n</g>\n<!-- 1&#45;&gt;4 -->\n<g id=\"edge2\" class=\"edge\">\n<title>1&#45;&gt;4</title>\n<path fill=\"none\" stroke=\"red\" d=\"M28.67,-147.17C36.21,-137.39 46.48,-124.08 55.13,-112.87\"/>\n<polygon fill=\"red\" stroke=\"red\" points=\"58.02,-114.86 61.35,-104.8 52.47,-110.58 58.02,-114.86\"/>\n</g>\n<!-- 2 -->\n<g id=\"node2\" class=\"node\">\n<title>2</title>\n<ellipse fill=\"none\" stroke=\"black\" cx=\"72\" cy=\"-162\" rx=\"18\" ry=\"18\"/>\n</g>\n<!-- 2&#45;&gt;3 -->\n<g id=\"edge3\" class=\"edge\">\n<title>2&#45;&gt;3</title>\n<path fill=\"none\" stroke=\"red\" d=\"M61.33,-147.17C53.79,-137.39 43.52,-124.08 34.87,-112.87\"/>\n<polygon fill=\"red\" stroke=\"red\" points=\"37.53,-110.58 28.65,-104.8 31.98,-114.86 37.53,-110.58\"/>\n</g>\n<!-- 2&#45;&gt;4 -->\n<g id=\"edge4\" class=\"edge\">\n<title>2&#45;&gt;4</title>\n<path fill=\"none\" stroke=\"red\" d=\"M72,-143.7C72,-135.98 72,-126.71 72,-118.11\"/>\n<polygon fill=\"red\" stroke=\"red\" points=\"75.5,-118.1 72,-108.1 68.5,-118.1 75.5,-118.1\"/>\n</g>\n<!-- 5 -->\n<g id=\"node5\" class=\"node\">\n<title>5</title>\n<ellipse fill=\"none\" stroke=\"black\" cx=\"45\" cy=\"-18\" rx=\"18\" ry=\"18\"/>\n</g>\n<!-- 3&#45;&gt;5 -->\n<g id=\"edge5\" class=\"edge\">\n<title>3&#45;&gt;5</title>\n<path fill=\"none\" stroke=\"red\" d=\"M24.26,-72.76C27.5,-64.37 31.53,-53.93 35.17,-44.5\"/>\n<polygon fill=\"red\" stroke=\"red\" points=\"38.44,-45.74 38.77,-35.15 31.91,-43.22 38.44,-45.74\"/>\n</g>\n<!-- 4&#45;&gt;5 -->\n<g id=\"edge6\" class=\"edge\">\n<title>4&#45;&gt;5</title>\n<path fill=\"none\" stroke=\"red\" d=\"M65.74,-72.76C62.5,-64.37 58.47,-53.93 54.83,-44.5\"/>\n<polygon fill=\"red\" stroke=\"red\" points=\"58.09,-43.22 51.23,-35.15 51.56,-45.74 58.09,-43.22\"/>\n</g>\n</g>\n</svg>\n",
      "text/plain": [
       "<graphviz.sources.Source at 0x23912b76710>"
      ]
     },
     "metadata": {},
     "output_type": "display_data"
    },
    {
     "data": {
      "image/png": "[encoded data removed]",
      "text/plain": [
       "<IPython.core.display.Image object>"
      ]
     },
     "metadata": {},
     "output_type": "display_data"
    }
   ],
   "source": [
    "import keras\n",
    "from keras.utils.vis_utils import plot_model\n",
    "from networkx.drawing import nx_pydot\n",
    "from graphviz import Source\n",
    "from kviz.dense import DenseGraph\n",
    "\n",
    "# first version\n",
    "def network_to_image(model):\n",
    "    G = nx.DiGraph()\n",
    "    firstlayer = model.layers[0]\n",
    "    (_, fnumShape)= firstlayer.input_shape\n",
    "    numnode = 1\n",
    "    parentNum = fnumShape\n",
    "    parentNode = 1\n",
    "    for _ in range(fnumShape):\n",
    "        G.add_node(numnode, shape ='circle', label = '')\n",
    "        numnode += 1\n",
    "\n",
    "    for layer in model.layers:\n",
    "        (_, numShape) = layer.output_shape\n",
    "        for _ in range(numShape):\n",
    "            G.add_node(numnode, shape ='circle', label = '')\n",
    "        \n",
    "            for i in range(parentNum):\n",
    "                if (parentNode+i != numnode):\n",
    "                    G.add_edge(parentNode+i, numnode, color = 'red') \n",
    "            numnode += 1  \n",
    "        parentNode += parentNum\n",
    "        parentNum = numShape   \n",
    "    nx_pydot.write_dot(G, 'Dag')\n",
    "    return Source.from_file('Dag')\n",
    "\n",
    "# second version\n",
    "def network_to_image2 (model):\n",
    "    dg = DenseGraph(model)\n",
    "    dg.render('ex2')\n",
    "    return Image(filename='ex2.png')  \n",
    "\n",
    "model = keras.models.Sequential()\n",
    "model.add(keras.layers.Dense(2, input_dim=2))\n",
    "model.add(keras.layers.Dense(1))\n",
    "model.compile(loss=\"binary_crossentropy\")\n",
    "display(network_to_image(model))\n",
    "display(network_to_image2(model))\n"
   ]
  },
  {
   "cell_type": "markdown",
   "metadata": {},
   "source": [
    "b) Generate 100 datapoints of the form y = 3x + 1 + e where e ~ N(0, 1) and plot the data in a scatter plot [5pts]"
   ]
  },
  {
   "cell_type": "code",
   "execution_count": 8,
   "metadata": {},
   "outputs": [
    {
     "data": {
      "image/png": "[encoded data removed]",
      "text/plain": [
       "<Figure size 432x288 with 1 Axes>"
      ]
     },
     "metadata": {
      "needs_background": "light"
     },
     "output_type": "display_data"
    }
   ],
   "source": [
    "import random\n",
    "import numpy as np\n",
    "import matplotlib.pyplot as plt\n",
    "\n",
    "count = 100\n",
    "mean = 0\n",
    "std = 1\n",
    "data_points = []\n",
    "for _ in range(count):\n",
    "    e = np.random.normal(mean, std)\n",
    "    x = random.randint(1, 100)  #temporary \n",
    "    data_points.append([x,3*x+1+e])\n",
    "data_points = np.array(data_points)\n",
    "\n",
    "plt.scatter(data_points[:, 0], data_points[:, 1]) \n",
    "plt.show() "
   ]
  },
  {
   "cell_type": "markdown",
   "metadata": {},
   "source": [
    "c) Create a Neural Network with no hidden layers (just input to ouput each with just one neuron), using the `mean_squared_error` loss and no activation function. Create an image of this model using a) then train this model on the dataset from b). In a 3D plot, plot the weight, the bias, and the loss value. [10pts]"
   ]
  },
  {
   "cell_type": "code",
   "execution_count": 13,
   "metadata": {},
   "outputs": [
    {
     "data": {
      "image/png": "[encoded data removed]",
      "text/plain": [
       "<IPython.core.display.Image object>"
      ]
     },
     "metadata": {},
     "output_type": "display_data"
    },
    {
     "name": "stdout",
     "output_type": "stream",
     "text": [
      "WARNING:tensorflow:5 out of the last 9 calls to <function Model.make_train_function.<locals>.train_function at 0x0000014F1F047D90> triggered tf.function retracing. Tracing is expensive and the excessive number of tracings could be due to (1) creating @tf.function repeatedly in a loop, (2) passing tensors with different shapes, (3) passing Python objects instead of tensors. For (1), please define your @tf.function outside of the loop. For (2), @tf.function has experimental_relax_shapes=True option that relaxes argument shapes that can avoid unnecessary retracing. For (3), please refer to https://www.tensorflow.org/guide/function#controlling_retracing and https://www.tensorflow.org/api_docs/python/tf/function for  more details.\n"
     ]
    },
    {
     "data": {
      "image/png": "[encoded data removed]",
      "text/plain": [
       "<Figure size 576x432 with 1 Axes>"
      ]
     },
     "metadata": {
      "needs_background": "light"
     },
     "output_type": "display_data"
    }
   ],
   "source": [
    "from IPython.display import display\n",
    "from mpl_toolkits.mplot3d import Axes3D\n",
    "\n",
    "model = keras.models.Sequential()\n",
    "model.add(keras.layers.Dense(3, input_dim=2))\n",
    "model.compile(loss = 'mean_squared_error')\n",
    "y = network_to_image2(model)\n",
    "display(y)\n",
    "\n",
    "sample_points = []\n",
    "for _ in range(count):\n",
    "    x = random.randint(1, 100)\n",
    "    sample_points.append(x)\n",
    "sample_points = np.array(sample_points)\n",
    "\n",
    "hist = model.fit(data_points, sample_points, batch_size = 50, verbose = 0)\n",
    "\n",
    "layer = model.layers[0]\n",
    "keras_function = keras.backend.function([model.input], [layer.output])\n",
    "layerVals = np.array(keras_function(data_points))[0]\n",
    "fig = plt.figure(figsize= [8, 6])\n",
    "ax = fig.add_subplot(111, projection='3d')\n",
    "ax.scatter(layerVals[:,0], layerVals[:, 1], layerVals[:, 2], color='red', s=100, alpha=.9)\n",
    "plt.show()"
   ]
  },
  {
   "cell_type": "markdown",
   "metadata": {},
   "source": [
    "d) Using matplotlib animation, re-train the model from c) and create an animation of the weight, bias, and loss at each training epoch. [10pts]"
   ]
  },
  {
   "cell_type": "code",
   "execution_count": null,
   "metadata": {},
   "outputs": [],
   "source": [
    "from matplotlib import pyplot as plt\n",
    "import numpy as np\n",
    "from mpl_toolkits.mplot3d import Axes3D\n",
    "from matplotlib import animation\n",
    "\n",
    "\n",
    "hist = model.fit(data_points, sample_points, batch_size = 50, verbose = 0, epochs = 100)\n",
    "\n",
    "def update(x):\n",
    "    layer = model.layers[0]\n",
    "    keras_function = keras.backend.function([model.input], [layer.output])\n",
    "    layerVals = np.array(keras_function(data_points))[0]\n",
    "    line.set_data(layerVals[:,0], layerVals[:, 1]) \n",
    "    line.set_3d_propeties(layerVals[:, 2])\n",
    "    return \n",
    "\n",
    "\n",
    "\n",
    "fig = plt.figure()\n",
    "ax = fig.add_subplot(projection='3d')\n",
    "\n",
    "ani = animation.FuncAnimation(fig, update, frames = 100, interval = 10, blit = True)"
   ]
  },
  {
   "cell_type": "markdown",
   "metadata": {},
   "source": [
    "e) Generate data of the form y = 3x^3 + 2x^2 + x + 1 + e where e ~ N(0, 1) and plot the data in a scatter plot [5pts]"
   ]
  },
  {
   "cell_type": "code",
   "execution_count": 31,
   "metadata": {},
   "outputs": [
    {
     "data": {
      "image/png": "[encoded data removed]",
      "text/plain": [
       "<Figure size 432x288 with 1 Axes>"
      ]
     },
     "metadata": {
      "needs_background": "light"
     },
     "output_type": "display_data"
    }
   ],
   "source": [
    "count = 100\n",
    "mean = 0\n",
    "std = 1\n",
    "X = []\n",
    "for _ in range(count):\n",
    "    e = np.random.normal(mean, std)\n",
    "    x = random.randint(1, 1000)  #temporary         \n",
    "    X.append([x, (3*x)**3 + (2*x)**2 + x + 1 + e])\n",
    "X = np.array(X)\n",
    "\n",
    "plt.scatter(X[:, 0], X[:, 1]) \n",
    "plt.show() "
   ]
  },
  {
   "cell_type": "markdown",
   "metadata": {},
   "source": [
    "f) Create and train a neural network on the dataset from b) and plot the resulting curve through the scatter plot. (you can use any number of epochs, hidden layers etc.) Also create an image of the network using the function from a) [10pts]"
   ]
  },
  {
   "cell_type": "code",
   "execution_count": 120,
   "metadata": {},
   "outputs": [
    {
     "data": {
      "image/png": "[encoded data removed]",
      "text/plain": [
       "<IPython.core.display.Image object>"
      ]
     },
     "metadata": {},
     "output_type": "display_data"
    },
    {
     "name": "stdout",
     "output_type": "stream",
     "text": [
      "Epoch 1/100\n",
      "2/2 [==============================] - 1s 6ms/step - loss: -449.5092 - accuracy: 0.0000e+00\n",
      "Epoch 2/100\n",
      "2/2 [==============================] - 0s 6ms/step - loss: -451.5350 - accuracy: 0.0000e+00\n",
      "Epoch 3/100\n",
      "2/2 [==============================] - 0s 5ms/step - loss: -453.6684 - accuracy: 0.0000e+00\n",
      "Epoch 4/100\n",
      "2/2 [==============================] - 0s 4ms/step - loss: -455.7320 - accuracy: 0.0000e+00\n",
      "Epoch 5/100\n",
      "2/2 [==============================] - 0s 7ms/step - loss: -457.7545 - accuracy: 0.0000e+00\n",
      "Epoch 6/100\n",
      "2/2 [==============================] - 0s 5ms/step - loss: -459.9292 - accuracy: 0.0000e+00\n",
      "Epoch 7/100\n",
      "2/2 [==============================] - 0s 5ms/step - loss: -461.9785 - accuracy: 0.0000e+00\n",
      "Epoch 8/100\n",
      "2/2 [==============================] - 0s 7ms/step - loss: -464.0392 - accuracy: 0.0000e+00\n",
      "Epoch 9/100\n",
      "2/2 [==============================] - 0s 7ms/step - loss: -466.1946 - accuracy: 0.0000e+00\n",
      "Epoch 10/100\n",
      "2/2 [==============================] - 0s 6ms/step - loss: -468.1987 - accuracy: 0.0000e+00\n",
      "Epoch 11/100\n",
      "2/2 [==============================] - 0s 6ms/step - loss: -470.3435 - accuracy: 0.0000e+00\n",
      "Epoch 12/100\n",
      "2/2 [==============================] - 0s 6ms/step - loss: -472.3636 - accuracy: 0.0000e+00\n",
      "Epoch 13/100\n",
      "2/2 [==============================] - 0s 8ms/step - loss: -474.5133 - accuracy: 0.0000e+00\n",
      "Epoch 14/100\n",
      "2/2 [==============================] - 0s 8ms/step - loss: -476.5848 - accuracy: 0.0000e+00\n",
      "Epoch 15/100\n",
      "2/2 [==============================] - 0s 7ms/step - loss: -478.6243 - accuracy: 0.0000e+00\n",
      "Epoch 16/100\n",
      "2/2 [==============================] - 0s 7ms/step - loss: -480.7329 - accuracy: 0.0000e+00\n",
      "Epoch 17/100\n",
      "2/2 [==============================] - 0s 9ms/step - loss: -482.7859 - accuracy: 0.0000e+00\n",
      "Epoch 18/100\n",
      "2/2 [==============================] - 0s 6ms/step - loss: -484.8962 - accuracy: 0.0000e+00\n",
      "Epoch 19/100\n",
      "2/2 [==============================] - 0s 7ms/step - loss: -486.9754 - accuracy: 0.0000e+00\n",
      "Epoch 20/100\n",
      "2/2 [==============================] - 0s 8ms/step - loss: -489.0036 - accuracy: 0.0000e+00\n",
      "Epoch 21/100\n",
      "2/2 [==============================] - 0s 7ms/step - loss: -491.0923 - accuracy: 0.0000e+00\n",
      "Epoch 22/100\n",
      "2/2 [==============================] - 0s 6ms/step - loss: -493.1315 - accuracy: 0.0000e+00\n",
      "Epoch 23/100\n",
      "2/2 [==============================] - 0s 6ms/step - loss: -495.2431 - accuracy: 0.0000e+00\n",
      "Epoch 24/100\n",
      "2/2 [==============================] - 0s 6ms/step - loss: -497.2632 - accuracy: 0.0000e+00\n",
      "Epoch 25/100\n",
      "2/2 [==============================] - 0s 5ms/step - loss: -499.3248 - accuracy: 0.0000e+00\n",
      "Epoch 26/100\n",
      "2/2 [==============================] - 0s 6ms/step - loss: -501.3920 - accuracy: 0.0000e+00\n",
      "Epoch 27/100\n",
      "2/2 [==============================] - 0s 6ms/step - loss: -503.4479 - accuracy: 0.0000e+00\n",
      "Epoch 28/100\n",
      "2/2 [==============================] - 0s 6ms/step - loss: -505.5061 - accuracy: 0.0000e+00\n",
      "Epoch 29/100\n",
      "2/2 [==============================] - 0s 5ms/step - loss: -507.6018 - accuracy: 0.0000e+00\n",
      "Epoch 30/100\n",
      "2/2 [==============================] - 0s 4ms/step - loss: -509.6409 - accuracy: 0.0000e+00\n",
      "Epoch 31/100\n",
      "2/2 [==============================] - 0s 5ms/step - loss: -511.7459 - accuracy: 0.0000e+00\n",
      "Epoch 32/100\n",
      "2/2 [==============================] - 0s 5ms/step - loss: -513.7606 - accuracy: 0.0000e+00\n",
      "Epoch 33/100\n",
      "2/2 [==============================] - 0s 4ms/step - loss: -515.8638 - accuracy: 0.0000e+00\n",
      "Epoch 34/100\n",
      "2/2 [==============================] - 0s 9ms/step - loss: -517.9529 - accuracy: 0.0000e+00\n",
      "Epoch 35/100\n",
      "2/2 [==============================] - 0s 7ms/step - loss: -520.0001 - accuracy: 0.0000e+00\n",
      "Epoch 36/100\n",
      "2/2 [==============================] - 0s 7ms/step - loss: -522.1328 - accuracy: 0.0000e+00\n",
      "Epoch 37/100\n",
      "2/2 [==============================] - 0s 6ms/step - loss: -524.2012 - accuracy: 0.0000e+00\n",
      "Epoch 38/100\n",
      "2/2 [==============================] - 0s 5ms/step - loss: -526.2983 - accuracy: 0.0000e+00\n",
      "Epoch 39/100\n",
      "2/2 [==============================] - 0s 9ms/step - loss: -528.3470 - accuracy: 0.0000e+00\n",
      "Epoch 40/100\n",
      "2/2 [==============================] - 0s 6ms/step - loss: -530.5074 - accuracy: 0.0000e+00\n",
      "Epoch 41/100\n",
      "2/2 [==============================] - 0s 6ms/step - loss: -532.5491 - accuracy: 0.0000e+00\n",
      "Epoch 42/100\n",
      "2/2 [==============================] - 0s 4ms/step - loss: -534.6539 - accuracy: 0.0000e+00\n",
      "Epoch 43/100\n",
      "2/2 [==============================] - 0s 5ms/step - loss: -536.7264 - accuracy: 0.0000e+00\n",
      "Epoch 44/100\n",
      "2/2 [==============================] - 0s 5ms/step - loss: -538.8635 - accuracy: 0.0000e+00\n",
      "Epoch 45/100\n",
      "2/2 [==============================] - 0s 4ms/step - loss: -540.9209 - accuracy: 0.0000e+00\n",
      "Epoch 46/100\n",
      "2/2 [==============================] - 0s 5ms/step - loss: -543.0179 - accuracy: 0.0000e+00\n",
      "Epoch 47/100\n",
      "2/2 [==============================] - 0s 8ms/step - loss: -545.1208 - accuracy: 0.0000e+00\n",
      "Epoch 48/100\n",
      "2/2 [==============================] - 0s 7ms/step - loss: -547.2224 - accuracy: 0.0000e+00\n",
      "Epoch 49/100\n",
      "2/2 [==============================] - 0s 6ms/step - loss: -549.2451 - accuracy: 0.0000e+00\n",
      "Epoch 50/100\n",
      "2/2 [==============================] - 0s 5ms/step - loss: -551.3316 - accuracy: 0.0000e+00\n",
      "Epoch 51/100\n",
      "2/2 [==============================] - 0s 4ms/step - loss: -553.4064 - accuracy: 0.0000e+00\n",
      "Epoch 52/100\n",
      "2/2 [==============================] - 0s 5ms/step - loss: -555.5577 - accuracy: 0.0000e+00\n",
      "Epoch 53/100\n",
      "2/2 [==============================] - 0s 4ms/step - loss: -557.5800 - accuracy: 0.0000e+00\n",
      "Epoch 54/100\n",
      "2/2 [==============================] - 0s 7ms/step - loss: -559.5846 - accuracy: 0.0000e+00\n",
      "Epoch 55/100\n",
      "2/2 [==============================] - 0s 5ms/step - loss: -561.7231 - accuracy: 0.0000e+00\n",
      "Epoch 56/100\n",
      "2/2 [==============================] - 0s 5ms/step - loss: -563.8262 - accuracy: 0.0000e+00\n",
      "Epoch 57/100\n",
      "2/2 [==============================] - 0s 4ms/step - loss: -565.8995 - accuracy: 0.0000e+00\n",
      "Epoch 58/100\n",
      "2/2 [==============================] - 0s 5ms/step - loss: -567.9005 - accuracy: 0.0000e+00\n",
      "Epoch 59/100\n",
      "2/2 [==============================] - 0s 5ms/step - loss: -570.0726 - accuracy: 0.0000e+00\n",
      "Epoch 60/100\n",
      "2/2 [==============================] - 0s 7ms/step - loss: -572.0673 - accuracy: 0.0000e+00\n",
      "Epoch 61/100\n",
      "2/2 [==============================] - 0s 7ms/step - loss: -574.1573 - accuracy: 0.0000e+00\n",
      "Epoch 62/100\n",
      "2/2 [==============================] - 0s 14ms/step - loss: -576.2924 - accuracy: 0.0000e+00\n",
      "Epoch 63/100\n",
      "2/2 [==============================] - 0s 5ms/step - loss: -578.3595 - accuracy: 0.0000e+00\n",
      "Epoch 64/100\n",
      "2/2 [==============================] - 0s 13ms/step - loss: -580.4501 - accuracy: 0.0000e+00\n",
      "Epoch 65/100\n",
      "2/2 [==============================] - 0s 4ms/step - loss: -582.5030 - accuracy: 0.0000e+00\n",
      "Epoch 66/100\n",
      "2/2 [==============================] - 0s 5ms/step - loss: -584.5470 - accuracy: 0.0000e+00\n",
      "Epoch 67/100\n",
      "2/2 [==============================] - 0s 4ms/step - loss: -586.6833 - accuracy: 0.0000e+00\n",
      "Epoch 68/100\n",
      "2/2 [==============================] - 0s 6ms/step - loss: -588.7051 - accuracy: 0.0000e+00\n",
      "Epoch 69/100\n",
      "2/2 [==============================] - 0s 6ms/step - loss: -590.8491 - accuracy: 0.0000e+00\n",
      "Epoch 70/100\n",
      "2/2 [==============================] - 0s 4ms/step - loss: -592.8525 - accuracy: 0.0000e+00\n",
      "Epoch 71/100\n",
      "2/2 [==============================] - 0s 6ms/step - loss: -594.9364 - accuracy: 0.0000e+00\n",
      "Epoch 72/100\n",
      "2/2 [==============================] - 0s 6ms/step - loss: -597.0743 - accuracy: 0.0000e+00\n",
      "Epoch 73/100\n",
      "2/2 [==============================] - 0s 5ms/step - loss: -599.0934 - accuracy: 0.0000e+00\n",
      "Epoch 74/100\n",
      "2/2 [==============================] - 0s 6ms/step - loss: -601.1574 - accuracy: 0.0000e+00\n",
      "Epoch 75/100\n",
      "2/2 [==============================] - 0s 5ms/step - loss: -603.2347 - accuracy: 0.0000e+00\n",
      "Epoch 76/100\n",
      "2/2 [==============================] - 0s 6ms/step - loss: -605.3431 - accuracy: 0.0000e+00\n",
      "Epoch 77/100\n",
      "2/2 [==============================] - 0s 6ms/step - loss: -607.3780 - accuracy: 0.0000e+00\n",
      "Epoch 78/100\n",
      "2/2 [==============================] - 0s 11ms/step - loss: -609.5117 - accuracy: 0.0000e+00\n",
      "Epoch 79/100\n",
      "2/2 [==============================] - 0s 5ms/step - loss: -611.5574 - accuracy: 0.0000e+00\n",
      "Epoch 80/100\n",
      "2/2 [==============================] - 0s 5ms/step - loss: -613.6504 - accuracy: 0.0000e+00\n",
      "Epoch 81/100\n",
      "2/2 [==============================] - 0s 5ms/step - loss: -615.7111 - accuracy: 0.0000e+00\n",
      "Epoch 82/100\n",
      "2/2 [==============================] - 0s 3ms/step - loss: -617.7750 - accuracy: 0.0000e+00\n",
      "Epoch 83/100\n",
      "2/2 [==============================] - 0s 5ms/step - loss: -619.9155 - accuracy: 0.0000e+00\n",
      "Epoch 84/100\n",
      "2/2 [==============================] - 0s 6ms/step - loss: -621.9741 - accuracy: 0.0000e+00\n",
      "Epoch 85/100\n",
      "2/2 [==============================] - 0s 4ms/step - loss: -624.0101 - accuracy: 0.0000e+00\n",
      "Epoch 86/100\n",
      "2/2 [==============================] - 0s 3ms/step - loss: -626.1461 - accuracy: 0.0000e+00\n",
      "Epoch 87/100\n",
      "2/2 [==============================] - 0s 6ms/step - loss: -628.2147 - accuracy: 0.0000e+00\n",
      "Epoch 88/100\n",
      "2/2 [==============================] - 0s 8ms/step - loss: -630.3443 - accuracy: 0.0000e+00\n",
      "Epoch 89/100\n",
      "2/2 [==============================] - 0s 4ms/step - loss: -632.3946 - accuracy: 0.0000e+00\n",
      "Epoch 90/100\n",
      "2/2 [==============================] - 0s 4ms/step - loss: -634.4076 - accuracy: 0.0000e+00\n",
      "Epoch 91/100\n",
      "2/2 [==============================] - 0s 5ms/step - loss: -636.5571 - accuracy: 0.0000e+00\n",
      "Epoch 92/100\n",
      "2/2 [==============================] - 0s 5ms/step - loss: -638.6777 - accuracy: 0.0000e+00\n",
      "Epoch 93/100\n",
      "2/2 [==============================] - 0s 6ms/step - loss: -640.6809 - accuracy: 0.0000e+00\n",
      "Epoch 94/100\n",
      "2/2 [==============================] - 0s 6ms/step - loss: -642.8127 - accuracy: 0.0000e+00\n",
      "Epoch 95/100\n",
      "2/2 [==============================] - 0s 6ms/step - loss: -644.8585 - accuracy: 0.0000e+00\n",
      "Epoch 96/100\n",
      "2/2 [==============================] - 0s 7ms/step - loss: -646.9622 - accuracy: 0.0000e+00\n",
      "Epoch 97/100\n",
      "2/2 [==============================] - 0s 5ms/step - loss: -649.0147 - accuracy: 0.0000e+00\n",
      "Epoch 98/100\n",
      "2/2 [==============================] - 0s 5ms/step - loss: -651.0923 - accuracy: 0.0000e+00\n",
      "Epoch 99/100\n",
      "2/2 [==============================] - 0s 5ms/step - loss: -653.1925 - accuracy: 0.0000e+00\n",
      "Epoch 100/100\n",
      "2/2 [==============================] - 0s 5ms/step - loss: -655.2791 - accuracy: 0.0000e+00\n"
     ]
    },
    {
     "data": {
      "image/png": "[encoded data removed]",
      "text/plain": [
       "<Figure size 432x288 with 1 Axes>"
      ]
     },
     "metadata": {
      "needs_background": "light"
     },
     "output_type": "display_data"
    }
   ],
   "source": [
    "from sklearn.model_selection import train_test_split\n",
    "\n",
    "model = keras.models.Sequential()\n",
    "model.add(keras.layers.Dense(2, input_dim=2, activation=\"sigmoid\"))\n",
    "model.add(keras.layers.Dense(1, activation=\"sigmoid\"))\n",
    "model.compile(loss='binary_crossentropy', optimizer='adam', metrics=['accuracy'])\n",
    "y = network_to_image2(model)\n",
    "display(y)\n",
    "\n",
    "Y = []\n",
    "for _ in range(count):\n",
    "    x = random.randint(1, 1000)\n",
    "    Y.append(x)\n",
    "Y = np.array(Y)\n",
    "\n",
    "x_train, x_test, y_train, y_test = train_test_split(X, Y, random_state = 42)\n",
    "\n",
    "hist = model.fit(x_train, y_train, batch_size = 50, epochs = 100)\n",
    "\n",
    "layer = model.layers[0]\n",
    "keras_function = keras.backend.function([model.input], [layer.output])\n",
    "layerVals = np.array(keras_function(data_points))[0]\n",
    "plt.scatter(layerVals[:,0], layerVals[:, 1], color= 'blue', s=100, alpha=.9)\n",
    "plt.show()\n"
   ]
  },
  {
   "cell_type": "markdown",
   "metadata": {},
   "source": [
    "g) Using matplotlib animation, create an animation of the resulting curve from your model at each training epoch (up to 100 epochs). [5pts]"
   ]
  },
  {
   "cell_type": "code",
   "execution_count": 121,
   "metadata": {},
   "outputs": [
    {
     "name": "stdout",
     "output_type": "stream",
     "text": [
      "dict_keys(['loss', 'accuracy', 'val_loss', 'val_accuracy'])\n"
     ]
    },
    {
     "data": {
      "image/png": "[encoded data removed]",
      "text/plain": [
       "<Figure size 432x288 with 1 Axes>"
      ]
     },
     "metadata": {
      "needs_background": "light"
     },
     "output_type": "display_data"
    }
   ],
   "source": [
    "history = model.fit(data_points, sample_points, validation_split=0.33, epochs=150, batch_size=10, verbose=0)\n",
    "print(history.history.keys())\n",
    "\n",
    "\n",
    "plt.plot(history.history['loss'])\n",
    "plt.plot(history.history['val_loss'])\n",
    "plt.title('model loss')\n",
    "plt.ylabel('loss')\n",
    "plt.xlabel('epoch')\n",
    "plt.legend(['train', 'test'], loc='upper left')\n",
    "plt.show()"
   ]
  },
  {
   "cell_type": "code",
   "execution_count": null,
   "metadata": {},
   "outputs": [],
   "source": [
    "from matplotlib import pyplot as plt\n",
    "import numpy as np\n",
    "from matplotlib.animation import FuncAnimation \n",
    "   \n",
    "fig = plt.figure() \n",
    "axis = plt.axes(xlim =(100, 110), \n",
    "                ylim =(0, 400)) \n",
    "  \n",
    "# initializing a line variable\n",
    "line, = axis.plot([], [], lw = 3) \n",
    "\n",
    "def init(): \n",
    "    line.set_data([], [])\n",
    "    return line,\n",
    "   \n",
    "def animate(i):\n",
    "    x = np.linspace(100, 110, 10)\n",
    "    y = model.fit(x_train, y_train, batch_size = 50, epochs = x*i)\n",
    "    line.set_data(x, y)\n",
    "      \n",
    "    return line,\n",
    "   \n",
    "anim = FuncAnimation(fig, animate, init_func = init,\n",
    "                     frames = 2, interval = 20, blit = True)\n",
    "\n",
    "anim.save('graph.mp4', writer = 'ffmpeg', fps = 100)\n"
   ]
  },
  {
   "cell_type": "markdown",
   "metadata": {},
   "source": [
    "## Exercise 3 [20pts]\n",
    "\n",
    "This exercise will focus on Neural Networks.\n",
    "\n"
   ]
  },
  {
   "cell_type": "code",
   "execution_count": 198,
   "metadata": {},
   "outputs": [],
   "source": [
    "from torch.utils.data import Dataset\n",
    "from torchvision import datasets\n",
    "from torchvision.transforms import ToTensor\n",
    "import matplotlib.pyplot as plt\n",
    "import torch \n",
    "import torch.nn as nn \n",
    "import torch.nn.functional as F\n",
    "import torchvision \n",
    "import torchvision.transforms as transforms \n",
    "from torch.optim import SGD, Adam\n",
    "from tqdm import tqdm "
   ]
  },
  {
   "cell_type": "markdown",
   "metadata": {},
   "source": [
    "a) Modify the number of layers to include atleast 2 hidden layers with appropriate number of neurons that use the sigmoid function in the forward pass: [5pts]"
   ]
  },
  {
   "cell_type": "code",
   "execution_count": 207,
   "metadata": {},
   "outputs": [],
   "source": [
    "class NeuralNetwork(nn.Module):\n",
    "  def __init__(self, input_size):\n",
    "    super(NeuralNetwork, self).__init__()\n",
    "    # You are free to define any number of layers you want to here\n",
    "    self.flatten = nn.Flatten()\n",
    "    self.layer1 = nn.Linear(input_size, 800)\n",
    "    self.layer2 = nn.Linear(800, 300)\n",
    "    self.layer3 = nn.Linear (300, 300)\n",
    "    self.output = nn.Linear(300, 10)  \n",
    "    self.dropout = nn.Dropout(0.3)\n",
    "\n",
    "\n",
    "  def forward(self, input):\n",
    "    x = F.relu(self.layer1(input))\n",
    "    # x = F.sigmoid(self.layer1(input))\n",
    "    x = F.sigmoid(self.layer2(x))\n",
    "    x = F.sigmoid(self.layer3(x))\n",
    "    x = self.dropout(x)\n",
    "    outputs = self.output(x)\n",
    "    return F.softmax(outputs)"
   ]
  },
  {
   "cell_type": "markdown",
   "metadata": {},
   "source": [
    "b) Modify the following values to provide the highest accuracy on your Neural Network [2pts]"
   ]
  },
  {
   "cell_type": "code",
   "execution_count": 208,
   "metadata": {},
   "outputs": [],
   "source": [
    "epochs = 7     # number of epochs\n",
    "device = torch.device(\"cuda\" if torch.cuda.is_available() else \"cpu\")     # device\n",
    "criterion = nn.CrossEntropyLoss() # loss function\n",
    "batch_size = 321"
   ]
  },
  {
   "cell_type": "markdown",
   "metadata": {},
   "source": [
    "Run the following cell everytime you update parts a and b"
   ]
  },
  {
   "cell_type": "code",
   "execution_count": 209,
   "metadata": {},
   "outputs": [],
   "source": [
    "net = NeuralNetwork(784).to(device)\n",
    "optimizer = Adam(net.parameters(), lr = 1e-2)\n",
    "\n",
    "total_loss = 0\n",
    "\n",
    "\n",
    "#######################################\n",
    "### Downloading the data\n",
    "\n",
    "\n",
    "training_data = datasets.FashionMNIST(\n",
    "    root=\"data\",\n",
    "    train=True,\n",
    "    download=True,\n",
    "    transform=ToTensor()\n",
    ")\n",
    "\n",
    "test_data = datasets.FashionMNIST(\n",
    "    root=\"data\",\n",
    "    train=False,\n",
    "    download=True,\n",
    "    transform=ToTensor()\n",
    ")\n",
    "train_dataloader = torch.utils.data.DataLoader(training_data, batch_size = batch_size, shuffle = True, num_workers=2, drop_last=True)\n",
    "train_dataloader2 = torch.utils.data.DataLoader(training_data, batch_size = batch_size, shuffle = True, num_workers=2, drop_last = True)\n",
    "test_dataloader = torch.utils.data.DataLoader(test_data, batch_size = batch_size, shuffle = True, num_workers=2, drop_last=True)\n",
    "test_dataloader2 = torch.utils.data.DataLoader(test_data, batch_size = batch_size, shuffle = True, num_workers=2, drop_last = True)"
   ]
  },
  {
   "cell_type": "markdown",
   "metadata": {},
   "source": [
    "c) You may change the model to increase the accuracy of this model. The goal is to attain the highest possible accuracy. You do not get marks for accuracies less than 83%. You may modify the values in parts a and b [8pts]"
   ]
  },
  {
   "cell_type": "code",
   "execution_count": 210,
   "metadata": {},
   "outputs": [
    {
     "name": "stderr",
     "output_type": "stream",
     "text": [
      "  0%|          | 0/7 [00:00<?, ?it/s]C:\\Users\\3eypa\\AppData\\Local\\Temp\\ipykernel_4664\\1309115157.py:20: UserWarning: Implicit dimension choice for softmax has been deprecated. Change the call to include dim=X as an argument.\n",
      "  return F.softmax(outputs)\n",
      " 14%|█▍        | 1/7 [00:32<03:13, 32.24s/it]"
     ]
    },
    {
     "name": "stdout",
     "output_type": "stream",
     "text": [
      " — epoch loss = 363.22 — training accuracy = 0.57 — test accuracy = 0.57\n"
     ]
    },
    {
     "name": "stderr",
     "output_type": "stream",
     "text": [
      " 29%|██▊       | 2/7 [01:10<02:58, 35.77s/it]"
     ]
    },
    {
     "name": "stdout",
     "output_type": "stream",
     "text": [
      " — epoch loss = 346.57 — training accuracy = 0.63 — test accuracy = 0.63\n"
     ]
    },
    {
     "name": "stderr",
     "output_type": "stream",
     "text": [
      " 43%|████▎     | 3/7 [01:48<02:26, 36.62s/it]"
     ]
    },
    {
     "name": "stdout",
     "output_type": "stream",
     "text": [
      " — epoch loss = 337.01 — training accuracy = 0.69 — test accuracy = 0.68\n"
     ]
    },
    {
     "name": "stderr",
     "output_type": "stream",
     "text": [
      " 57%|█████▋    | 4/7 [02:29<01:55, 38.34s/it]"
     ]
    },
    {
     "name": "stdout",
     "output_type": "stream",
     "text": [
      " — epoch loss = 327.56 — training accuracy = 0.70 — test accuracy = 0.69\n"
     ]
    },
    {
     "name": "stderr",
     "output_type": "stream",
     "text": [
      " 71%|███████▏  | 5/7 [03:08<01:17, 38.64s/it]"
     ]
    },
    {
     "name": "stdout",
     "output_type": "stream",
     "text": [
      " — epoch loss = 327.33 — training accuracy = 0.67 — test accuracy = 0.66\n"
     ]
    },
    {
     "name": "stderr",
     "output_type": "stream",
     "text": [
      " 86%|████████▌ | 6/7 [03:46<00:38, 38.36s/it]"
     ]
    },
    {
     "name": "stdout",
     "output_type": "stream",
     "text": [
      " — epoch loss = 327.38 — training accuracy = 0.69 — test accuracy = 0.68\n"
     ]
    },
    {
     "name": "stderr",
     "output_type": "stream",
     "text": [
      "100%|██████████| 7/7 [04:29<00:00, 38.43s/it]"
     ]
    },
    {
     "name": "stdout",
     "output_type": "stream",
     "text": [
      " — epoch loss = 327.48 — training accuracy = 0.71 — test accuracy = 0.70\n"
     ]
    },
    {
     "name": "stderr",
     "output_type": "stream",
     "text": [
      "\n"
     ]
    }
   ],
   "source": [
    "for epoch in tqdm(range(epochs)): \n",
    "  epoch_loss = 0\n",
    "  for i, data in enumerate(train_dataloader): \n",
    "    inputs, labels = data \n",
    "\n",
    "    optimizer.zero_grad() \n",
    "    outputs = net(inputs.view(batch_size,-1).to(device))\n",
    "\n",
    "    labels_ = F.one_hot(labels, num_classes= 10)\n",
    "\n",
    "    loss = criterion(outputs,labels_.to(device).float())\n",
    "    loss.backward()  # update network parameters\n",
    "\n",
    "    optimizer.step() # update the optimizer parameters \n",
    "\n",
    "    total_loss += loss.item() \n",
    "    epoch_loss += loss.item()\n",
    "  \n",
    "  with torch.no_grad():\n",
    "    net.eval()\n",
    "    correct = 0\n",
    "    total = 0\n",
    "    for i, data in enumerate(train_dataloader2):\n",
    "      input, labels = data\n",
    "      outputs = net(input.view(batch_size,-1).to(device))\n",
    "\n",
    "      total+= len(labels)\n",
    "\n",
    "      predictions = torch.argmax(outputs, dim = 1)\n",
    "      predictions = predictions.to(\"cpu\").numpy() \n",
    "      correct += sum(1*(labels.numpy()==predictions))\n",
    "  \n",
    "  with torch.no_grad():\n",
    "    net.eval()\n",
    "    correct_test = 0\n",
    "    total_test = 0\n",
    "    for i, data in enumerate(test_dataloader):\n",
    "      input, labels = data\n",
    "      outputs = net(input.view(batch_size,-1).to(device))\n",
    "\n",
    "      total_test+= len(labels)\n",
    "\n",
    "      predictions = torch.argmax(outputs, dim = 1)\n",
    "      predictions = predictions.to(\"cpu\").numpy() \n",
    "      correct_test += sum(1*(labels.numpy()==predictions))\n",
    "\n",
    "  print( \" — epoch loss = %1.2f — training accuracy = %1.2f — test accuracy = %1.2f\" %( epoch_loss, correct/total, correct_test/total_test))"
   ]
  },
  {
   "cell_type": "markdown",
   "metadata": {},
   "source": [
    "d) Explain in ~150 words the method you used to increase the accuracy. [5pts]"
   ]
  },
  {
   "cell_type": "markdown",
   "metadata": {},
   "source": [
    "\n",
    "First, I tried 10 epochs and 500 batch_size. Then I tried to increase epochs by 5 and it didn't work well. Then I tried to decrease epochs by 1 and decided to set epochs to 7. I realized that too many epochs will not necessarily improve the accuracy and instead may cause the model to over-fit the training data. Next, I tried to increase batch_size by 100 and it didn't work well. Then I tried to decrease batch_size by 100 and I achieved . I got worst result when I tried 15 epochs and 400 batch_size which gave me 0.45 accuracy for both train and test. I got 0.84 training accuracy and 0.83 test accuracy when epoch is 7 and batch_size is 321\n"
   ]
  }
 ],
 "metadata": {
  "interpreter": {
   "hash": "e7370f93d1d0cde622a1f8e1c04877d8463912d04d973331ad4851f04de6915a"
  },
  "kernelspec": {
   "display_name": "Python 3.9.9 64-bit",
   "language": "python",
   "name": "python3"
  },
  "language_info": {
   "codemirror_mode": {
    "name": "ipython",
    "version": 3
   },
   "file_extension": ".py",
   "mimetype": "text/x-python",
   "name": "python",
   "nbconvert_exporter": "python",
   "pygments_lexer": "ipython3",
   "version": "3.10.2"
  },
  "orig_nbformat": 4
 },
 "nbformat": 4,
 "nbformat_minor": 2
}
